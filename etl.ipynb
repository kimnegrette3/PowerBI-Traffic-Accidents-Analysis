{
 "cells": [
  {
   "cell_type": "code",
   "execution_count": 6,
   "metadata": {},
   "outputs": [],
   "source": [
    "import pandas as pd\n",
    "import numpy as np"
   ]
  },
  {
   "cell_type": "markdown",
   "metadata": {},
   "source": [
    "En dataset homicidios:\n",
    "- Hacer rangos etarios\n",
    "- Quitar la columna participantes\n",
    "- Revisar la hora\n",
    "- Quedarse solo con Tipo de calle, calle, comuna, y coordenadas\n",
    "- Tratar de rellenar las coordenadas usando los points - o revisar si powerBI lee datos tipo point\n",
    "- Revisar categorias de rol_victima\n",
    "\n",
    "En dataset lesiones: - Por ahora no dedicarle mucho, porque tal vez no lo usemos\n",
    "- Revisar horas y fechas\n",
    "- Sacar dia de la semana\n",
    "- Eliminar dirección, otra_dirección, altura, cruce, las columnas de moto, tte publico, etc\n",
    "- Tratar de rellenar las coordenadas usando los points\n",
    "- Estandarizar la columna sexo\n",
    "- Imputar nulos en columna gravedad con gravedad leve\n",
    "\n",
    "-- Final: Estandarizar las dos tablas con sus victimas y tratar de hacer un append. Añadir columna de lesion/homicidio o gravedad."
   ]
  },
  {
   "cell_type": "code",
   "execution_count": 102,
   "metadata": {},
   "outputs": [],
   "source": [
    "# Read datasets homicidios\n",
    "h_hechos = pd.read_excel('datasets/homicidios.xlsx', sheet_name='HECHOS', na_values=['SD','SD ''SD-SD', 'Point (. .)', '.', ''])\n",
    "h_victims = pd.read_excel('datasets/homicidios.xlsx', sheet_name='VICTIMAS', na_values=['SD', 'SD ','SD-SD'])\n",
    "\n",
    "#Drop unncesary columns\n",
    "h_hechos.drop(columns=['AAAA', 'MM', 'DD','HORA', 'LUGAR_DEL_HECHO', 'Altura', 'Cruce', \n",
    "                        'Dirección Normalizada', 'PARTICIPANTES','VICTIMA'], inplace=True)\n",
    "h_victims.drop(columns=['FECHA', 'AAAA', 'MM', 'DD', 'FECHA_FALLECIMIENTO'], inplace=True)\n",
    "\n",
    "# Rename columns\n",
    "h_hechos.rename(columns={'ID': 'siniestro_id','N_VICTIMAS':'num_victimas', 'FECHA':'fecha', 'HH':'hora', 'Calle':'calle', \n",
    "                        'COMUNA':'comuna', 'XY (CABA)': 'geocodificacion_caba', 'TIPO_DE_CALLE':'tipo_calle',\n",
    "                        'pos x':'longitud', 'pos y':'latitud', 'VICTIMA':'vehiculo_victima', 'ACUSADO':'vehiculo_acusado'}, inplace=True)\n",
    "h_victims.rename(columns={'ID_hecho':'siniestro_id', 'ROL':'rol_victima', 'VICTIMA':'vehiculo_victima', 'SEXO':'sexo_victima', \n",
    "                            'EDAD': 'edad_victima'}, inplace=True)\n",
    "\n",
    "# Change to lowercase\n",
    "h_hechos = h_hechos.applymap(lambda x: x.strip().lower() if isinstance(x, str) else x)\n",
    "h_victims = h_victims.applymap(lambda x: x.strip().lower() if isinstance(x, str) else x)\n",
    "\n",
    "# Change 'ciclista' for 'conductor' in victims 'rol' column\n",
    "h_victims['rol_victima'] = h_victims['rol_victima'].apply(lambda x: 'conductor' if x == 'ciclista' else x)\n",
    "\n",
    "# Categorize the ages in the victims table\n",
    "bins = [0, 18, 29, 39, 49, 59, float('inf')]\n",
    "labels = ['menos de 18', 'entre 18 y 29', 'entre 30 y 39', 'entre 40 y 49', 'entre 50 y 59', '60 y mayores']\n",
    "h_victims['rango_etario'] = pd.cut(h_victims['edad_victima'], bins=bins, labels=labels, right=False)\n",
    "h_victims.drop(columns=['edad_victima'], inplace=True)\n",
    "\n",
    "# Add a column called 'gravedad' to differentiate from lesiones, once it's concatenated\n",
    "h_victims.insert(loc=5, column='gravedad', value='fatal')\n",
    "\n",
    "# Change dtype of lat and long\n",
    "h_hechos['latitud'] = h_hechos['latitud'].astype('str')\n",
    "h_hechos['longitud'] = h_hechos['longitud'].astype('str')\n",
    "\n",
    "# Save to csv file\n",
    "h_hechos.to_csv('datasets/homicidios_hechos.csv', index=False)\n",
    "h_victims.to_csv('datasets/homicidios_victimas.csv', index=False)"
   ]
  },
  {
   "cell_type": "code",
   "execution_count": 27,
   "metadata": {},
   "outputs": [],
   "source": [
    "# Read datasets lesiones\n",
    "l_hechos = pd.read_excel('datasets/lesiones.xlsx', sheet_name='HECHOS', na_values=['SD','SD ','SD-SD','sd', 'Point (. .)', '.', '', 'No Especificada','no especificada'])\n",
    "l_victims = pd.read_excel('datasets/lesiones.xlsx', sheet_name='VICTIMAS', na_values=['SD','SD ','sd', 'SD-SD', 'No Especificada','no especificada'])\n",
    "\n",
    "#Drop unncesary columns\n",
    "l_hechos.drop(columns=['aaaa', 'mm', 'dd','hora', 'direccion_normalizada', 'otra_direccion', 'altura', 'cruce', \n",
    "                        'participantes','victima', 'moto', 'auto', 'transporte_publico', 'camion', 'ciclista', 'gravedad'], inplace=True)\n",
    "l_victims.drop(columns=['FECHA ', 'AAA', 'MM', 'DD'], inplace=True)\n",
    "\n",
    "# Rename columns\n",
    "l_hechos.rename(columns={'id': 'siniestro_id','n_victimas':'num_victimas', 'franja_hora':'hora', \n",
    "                        'COMUNA':'comuna', 'geocodificacion_CABA': 'geocodificacion_caba', 'latutid':'latitud', 'acusado':'vehiculo_acusado'}, inplace=True)\n",
    "l_victims.rename(columns={'ID hecho':'siniestro_id', 'VEHICULO_VICTIMA':'vehiculo_victima', 'SEXO':'sexo_victima', \n",
    "                            'EDAD_VICTIMA': 'edad_victima', 'GRAVEDAD':'gravedad'}, inplace=True)\n",
    "\n",
    "# Change to lowercase\n",
    "l_hechos = l_hechos.applymap(lambda x: x.strip().lower() if isinstance(x, str) else x)\n",
    "l_victims = l_victims.applymap(lambda x: x.strip().lower() if isinstance(x, str) else x)\n",
    "\n",
    "# Change the dtype of edad_victima and fecha\n",
    "l_victims['edad_victima'] = l_victims['edad_victima'].astype('Int64')\n",
    "l_hechos['fecha'] = pd.to_datetime(l_hechos['fecha'], errors='coerce')\n",
    "\n",
    "# Change dtype of lat and long\n",
    "l_hechos['latitud'] = l_hechos['latitud'].astype('str')\n",
    "l_hechos['longitud'] = l_hechos['longitud'].astype('str')\n",
    "\n",
    "# Replace the nulls in column gravedad with 'leve' as stated in the data dictionary\n",
    "l_victims['gravedad'].fillna('leve', inplace=True)\n",
    "\n",
    "# Categorize the ages in the victims table\n",
    "bins = [0, 18, 29, 39, 49, 59, float('inf')]\n",
    "labels = ['menos de 18', 'entre 18 y 29', 'entre 30 y 39', 'entre 40 y 49', 'entre 50 y 59', '60 y mayores']\n",
    "l_victims['rango_etario'] = pd.cut(l_victims['edad_victima'], bins=bins, labels=labels, right=False)\n",
    "l_victims.drop(columns=['edad_victima'], inplace=True)\n",
    "\n",
    "# Replace variable names in column sexo_victima to match homocidios\n",
    "l_victims['sexo_victima'] = l_victims['sexo_victima'].apply(lambda x: 'femenino' if x=='mujer' else ( 'masculino' if x=='varon' else x))\n",
    "\n",
    "# Rearrange columns order so it matches the ones in homicidios\n",
    "cols_l_hechos = list(l_hechos.columns)\n",
    "cols_l_hechos.insert(6, cols_l_hechos.pop(4))\n",
    "l_hechos = l_hechos[cols_l_hechos]\n",
    "\n",
    "cols_l_victims = list(l_victims.columns)\n",
    "cols_l_victims.insert(3,cols_l_victims.pop(4))\n",
    "l_victims = l_victims[cols_l_victims]\n",
    "l_victims.insert(loc=1, column='rol_victima', value=np.nan)\n",
    "\n",
    "# Save to csv file\n",
    "l_hechos.to_csv('datasets/lesiones_hechos.csv', index=False)\n",
    "l_victims.to_csv('datasets/lesiones_victimas.csv', index=False)"
   ]
  },
  {
   "cell_type": "code",
   "execution_count": 25,
   "metadata": {},
   "outputs": [
    {
     "name": "stdout",
     "output_type": "stream",
     "text": [
      "<class 'pandas.core.frame.DataFrame'>\n",
      "RangeIndex: 23785 entries, 0 to 23784\n",
      "Data columns (total 11 columns):\n",
      " #   Column                Non-Null Count  Dtype         \n",
      "---  ------                --------------  -----         \n",
      " 0   siniestro_id          23785 non-null  object        \n",
      " 1   num_victimas          23785 non-null  int64         \n",
      " 2   fecha                 23785 non-null  datetime64[ns]\n",
      " 3   hora                  23776 non-null  float64       \n",
      " 4   tipo_calle            12740 non-null  object        \n",
      " 5   calle                 12867 non-null  object        \n",
      " 6   comuna                22770 non-null  object        \n",
      " 7   geocodificacion_caba  22533 non-null  object        \n",
      " 8   longitud              23785 non-null  object        \n",
      " 9   latitud               23785 non-null  object        \n",
      " 10  vehiculo_acusado      8497 non-null   object        \n",
      "dtypes: datetime64[ns](1), float64(1), int64(1), object(8)\n",
      "memory usage: 2.0+ MB\n"
     ]
    }
   ],
   "source": [
    "l_hechos.info()"
   ]
  },
  {
   "cell_type": "code",
   "execution_count": 23,
   "metadata": {},
   "outputs": [
    {
     "name": "stdout",
     "output_type": "stream",
     "text": [
      "<class 'pandas.core.frame.DataFrame'>\n",
      "RangeIndex: 696 entries, 0 to 695\n",
      "Data columns (total 21 columns):\n",
      " #   Column                 Non-Null Count  Dtype         \n",
      "---  ------                 --------------  -----         \n",
      " 0   ID                     696 non-null    object        \n",
      " 1   N_VICTIMAS             696 non-null    int64         \n",
      " 2   FECHA                  696 non-null    datetime64[ns]\n",
      " 3   AAAA                   696 non-null    int64         \n",
      " 4   MM                     696 non-null    int64         \n",
      " 5   DD                     696 non-null    int64         \n",
      " 6   HORA                   695 non-null    object        \n",
      " 7   HH                     695 non-null    float64       \n",
      " 8   LUGAR_DEL_HECHO        695 non-null    object        \n",
      " 9   TIPO_DE_CALLE          696 non-null    object        \n",
      " 10  Calle                  695 non-null    object        \n",
      " 11  Altura                 129 non-null    float64       \n",
      " 12  Cruce                  525 non-null    object        \n",
      " 13  Dirección Normalizada  688 non-null    object        \n",
      " 14  COMUNA                 696 non-null    int64         \n",
      " 15  XY (CABA)              682 non-null    object        \n",
      " 16  pos x                  684 non-null    float64       \n",
      " 17  pos y                  684 non-null    float64       \n",
      " 18  PARTICIPANTES          696 non-null    object        \n",
      " 19  VICTIMA                687 non-null    object        \n",
      " 20  ACUSADO                673 non-null    object        \n",
      "dtypes: datetime64[ns](1), float64(4), int64(5), object(11)\n",
      "memory usage: 114.3+ KB\n"
     ]
    }
   ],
   "source": [
    "h_hechos = pd.read_excel('datasets/homicidios.xlsx', sheet_name='HECHOS', na_values=['SD','SD ''SD-SD', 'Point (. .)', '.', ''])\n",
    "h_hechos.info()"
   ]
  }
 ],
 "metadata": {
  "kernelspec": {
   "display_name": "env_python_3.10",
   "language": "python",
   "name": "python3"
  },
  "language_info": {
   "codemirror_mode": {
    "name": "ipython",
    "version": 3
   },
   "file_extension": ".py",
   "mimetype": "text/x-python",
   "name": "python",
   "nbconvert_exporter": "python",
   "pygments_lexer": "ipython3",
   "version": "3.9.5"
  },
  "orig_nbformat": 4
 },
 "nbformat": 4,
 "nbformat_minor": 2
}
